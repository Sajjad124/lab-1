{
 "cells": [
  {
   "cell_type": "markdown",
   "id": "bac9efc4",
   "metadata": {},
   "source": [
    "Last month Joe purchased some stock in Acme Software, Inc. Here are the details of the purchase:\n",
    "* The number of shares that Joe purchased was 2,000. * When Joe purchased the stock, he paid\n",
    "40.00 Dollar per share. * Joe paid his stockbroker a commission that amounted to 3 percent of the\n",
    "amount he paid for the stock.\n",
    "Two weeks later Joe sold the stock. Here are the details of the sale: * The number of shares that\n",
    "Joe sold was 2,000. * He sold the stock for 42.75 Dollar per share. * He paid his stockbroker\n",
    "another commission that amounted to 3 percent of the amount he received for the stock.\n",
    "Write a program that displays the following information: * The amount of money Joe paid for the\n",
    "stock. * The amount of commission Joe paid his broker when he bought the stock. * The amount\n",
    "that Joe sold the stock for. * The amount of commission Joe paid his broker when he sold the\n",
    "stock. * Display the amount of money that Joe had left when he sold the stock and paid his broker\n",
    "(both times). If this amount is positive, then Joe made a profit. If the amount is negative, then\n",
    "Joe lost money."
   ]
  },
  {
   "cell_type": "code",
   "execution_count": 14,
   "id": "966aa8f3",
   "metadata": {},
   "outputs": [
    {
     "name": "stdout",
     "output_type": "stream",
     "text": [
      "Total amount he paid for the stocks:  82400.0\n",
      "Purchased Shares                   :  2000\n",
      "Commission                         :  2400.0\n",
      "Commission after sold shares       :  2565.0\n",
      "Amount after sold shares           :  88065.0\n"
     ]
    }
   ],
   "source": [
    "purchased_shares=2000\n",
    "shares_price=40\n",
    "commission=shares*shares_price*0.03\n",
    "sold=42.75\n",
    "paid_commission=shares*sold*0.03\n",
    "\n",
    "print(\"Total amount he paid for the stocks: \",commission+(purchased_shares*shares_price))\n",
    "print(\"Purchased Shares                   : \",purchased_shares)\n",
    "print(\"Commission                         : \",commission)\n",
    "print(\"Commission after sold shares       : \",paid_commission)\n",
    "print(\"Amount after sold shares           : \",paid_commission+(purchased_shares*sold))"
   ]
  },
  {
   "cell_type": "code",
   "execution_count": null,
   "id": "3eaa9dcb",
   "metadata": {},
   "outputs": [],
   "source": []
  },
  {
   "cell_type": "code",
   "execution_count": null,
   "id": "dec8eec5",
   "metadata": {},
   "outputs": [],
   "source": []
  }
 ],
 "metadata": {
  "kernelspec": {
   "display_name": "Python 3",
   "language": "python",
   "name": "python3"
  },
  "language_info": {
   "codemirror_mode": {
    "name": "ipython",
    "version": 3
   },
   "file_extension": ".py",
   "mimetype": "text/x-python",
   "name": "python",
   "nbconvert_exporter": "python",
   "pygments_lexer": "ipython3",
   "version": "3.8.8"
  }
 },
 "nbformat": 4,
 "nbformat_minor": 5
}
