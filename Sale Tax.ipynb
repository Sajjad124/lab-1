{
 "cells": [
  {
   "cell_type": "markdown",
   "id": "e0309c53",
   "metadata": {},
   "source": [
    "Write a program that will ask the user to enter the amount of a purchase. The program should then\n",
    "compute the state and county sales tax. Assume the state sales tax is 5 percent and the county\n",
    "sales tax is 2.5 percent. The program should display the following: * The amount of the purchase\n",
    "* The state sales tax * The county sales tax * The total sales tax * and the total of the sale (which\n",
    "is the sum of the amount of purchase plus the total sales tax)."
   ]
  },
  {
   "cell_type": "code",
   "execution_count": null,
   "id": "f142c9e6",
   "metadata": {},
   "outputs": [],
   "source": [
    "purchase_amount = int(input(\"Enter Purchase Amount : \"))\n",
    "print(\"Purchase Amount =\",purchase_amount)\n",
    "\n",
    "state_sale_tax = purchase_amount*5/100\n",
    "print(\"State Sale  Tax = \",state_sale_tax)\n",
    "\n",
    "county_sale_tax = purchase_amount*2.5/100\n",
    "print(\"County Sale Tax = \",county_sale_tax)\n",
    "\n",
    "total_sale_tax = state_sale_tax + county_sale_tax;\n",
    "print(\"Total sale  Tax = \",total_sale_tax)\n",
    "\n",
    "total_of_sale = purchase_amount + total_sale_tax;\n",
    "print(\"Total of sale   = \",total_of_sale)\n",
    "\n"
   ]
  }
 ],
 "metadata": {
  "kernelspec": {
   "display_name": "Python 3",
   "language": "python",
   "name": "python3"
  },
  "language_info": {
   "codemirror_mode": {
    "name": "ipython",
    "version": 3
   },
   "file_extension": ".py",
   "mimetype": "text/x-python",
   "name": "python",
   "nbconvert_exporter": "python",
   "pygments_lexer": "ipython3",
   "version": "3.8.8"
  }
 },
 "nbformat": 4,
 "nbformat_minor": 5
}
