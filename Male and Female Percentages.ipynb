{
 "cells": [
  {
   "cell_type": "markdown",
   "id": "bda0ba9e",
   "metadata": {},
   "source": [
    "Write a program that asks the user for the number of males and the number of females registered\n",
    "in a class. The program should display the percentage of males and females in the class.\n",
    "Hint: Suppose there are 8 males and 12 females in a class. There are 20 students in the class. The\n",
    "percentage of males can be calculated as 8 4 20 5 0.4, or 40%. The percentage of females can be\n",
    "calculated as 12 4 20 5 0.6, or 60%."
   ]
  },
  {
   "cell_type": "code",
   "execution_count": 6,
   "id": "22947392",
   "metadata": {},
   "outputs": [
    {
     "name": "stdout",
     "output_type": "stream",
     "text": [
      "Enter number of males in class = 12\n",
      "Enter number of females in class = 8\n",
      "Percentage of female =  40.0\n",
      "Percentage of male =  60.0\n"
     ]
    }
   ],
   "source": [
    "no_of_males    = int(input(\"Enter number of males in class = \"))\n",
    "no_of_females  = int(input(\"Enter number of females in class = \"))\n",
    "total_students = no_of_females + no_of_males\n",
    "\n",
    "female_percentage = no_of_females/total_students*100\n",
    "print(\"Percentage of female = \" , female_percentage)\n",
    "\n",
    "male_percentage = no_of_males/total_students*100\n",
    "print(\"Percentage of male = \" , male_percentage)\n"
   ]
  },
  {
   "cell_type": "code",
   "execution_count": null,
   "id": "3f4077d8",
   "metadata": {},
   "outputs": [],
   "source": []
  }
 ],
 "metadata": {
  "kernelspec": {
   "display_name": "Python 3",
   "language": "python",
   "name": "python3"
  },
  "language_info": {
   "codemirror_mode": {
    "name": "ipython",
    "version": 3
   },
   "file_extension": ".py",
   "mimetype": "text/x-python",
   "name": "python",
   "nbconvert_exporter": "python",
   "pygments_lexer": "ipython3",
   "version": "3.8.8"
  }
 },
 "nbformat": 4,
 "nbformat_minor": 5
}
