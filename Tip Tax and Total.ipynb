{
 "cells": [
  {
   "cell_type": "markdown",
   "id": "f9e903e6",
   "metadata": {},
   "source": [
    "Write a program that calculates the total amount of a meal purchased at a restaurant. The program\n",
    "should ask the user to enter the charge for the food, and then calculate the amount of a 18 percent\n",
    "tip and 7 percent sales tax. Display each of these amounts and the total.\n"
   ]
  },
  {
   "cell_type": "code",
   "execution_count": 8,
   "id": "0b1d6108",
   "metadata": {},
   "outputs": [
    {
     "name": "stdout",
     "output_type": "stream",
     "text": [
      "Enter total amount of food100\n",
      "Tip        =  18.0\n",
      "Tax        =  7.0\n",
      "Total Bill =  125.0\n"
     ]
    }
   ],
   "source": [
    "total_food_amount = int(input(\"Enter total amount of food\"))\n",
    "\n",
    "tip = total_food_amount*18/100\n",
    "print(\"Tip        = \" , tip )\n",
    "\n",
    "tax = total_food_amount*7/100\n",
    "print(\"Tax        = \" , tax)\n",
    "\n",
    "total_bill = tip + tax + total_food_amount\n",
    "print(\"Total Bill = \" , total_bill)\n"
   ]
  }
 ],
 "metadata": {
  "kernelspec": {
   "display_name": "Python 3",
   "language": "python",
   "name": "python3"
  },
  "language_info": {
   "codemirror_mode": {
    "name": "ipython",
    "version": 3
   },
   "file_extension": ".py",
   "mimetype": "text/x-python",
   "name": "python",
   "nbconvert_exporter": "python",
   "pygments_lexer": "ipython3",
   "version": "3.8.8"
  }
 },
 "nbformat": 4,
 "nbformat_minor": 5
}
