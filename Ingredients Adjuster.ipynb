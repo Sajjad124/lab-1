{
 "cells": [
  {
   "cell_type": "markdown",
   "id": "070ac3e9",
   "metadata": {},
   "source": [
    "A cookie recipe calls for the following ingredients: * 1.5 cups of sugar * 1 cup of butter * 2.75 cups\n",
    "of flour\n",
    "The recipe produces 48 cookies with this amount of the ingredients. Write a program that asks\n",
    "the user how many cookies he or she wants to make, and then displays the number of cups of each\n",
    "ingredient needed for the specified number of cookies.\n"
   ]
  },
  {
   "cell_type": "code",
   "execution_count": 5,
   "id": "b19272eb",
   "metadata": {},
   "outputs": [
    {
     "name": "stdout",
     "output_type": "stream",
     "text": [
      "Enter no.of Cookies : 200\n",
      "Sugar Cups  =  6.25\n",
      "Butter Cups =  4.166666666666667\n",
      "Flour Cups  =  11.458333333333334\n"
     ]
    }
   ],
   "source": [
    "no_of_cookies = int(input(\"Enter no.of Cookies : \"))\n",
    "\n",
    "sugar_cups   = no_of_cookies*1.5/48\n",
    "butter_cups  = no_of_cookies*1/48\n",
    "flour_cups   = no_of_cookies*2.75/48\n",
    "print(\"Sugar Cups  = \" , sugar_cups)\n",
    "print(\"Butter Cups = \" , butter_cups)\n",
    "print(\"Flour Cups  = \" , flour_cups)"
   ]
  },
  {
   "cell_type": "code",
   "execution_count": null,
   "id": "25f16042",
   "metadata": {},
   "outputs": [],
   "source": []
  }
 ],
 "metadata": {
  "kernelspec": {
   "display_name": "Python 3",
   "language": "python",
   "name": "python3"
  },
  "language_info": {
   "codemirror_mode": {
    "name": "ipython",
    "version": 3
   },
   "file_extension": ".py",
   "mimetype": "text/x-python",
   "name": "python",
   "nbconvert_exporter": "python",
   "pygments_lexer": "ipython3",
   "version": "3.8.8"
  }
 },
 "nbformat": 4,
 "nbformat_minor": 5
}
